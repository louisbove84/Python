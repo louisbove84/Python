{
 "cells": [
  {
   "cell_type": "code",
   "execution_count": 29,
   "metadata": {},
   "outputs": [
    {
     "name": "stdout",
     "output_type": "stream",
     "text": [
      "C:\\Users\\beuxb\\Downloads\\prank\\prank\n",
      ".DS_Store\n",
      "athens.jpg\n",
      "austin.jpg\n",
      "bangalore.jpg\n",
      "barcelona.jpg\n",
      "beijing.jpg\n",
      "berkeley.jpg\n",
      "bogota.jpg\n",
      "bristol.jpg\n",
      "bucharest.jpg\n",
      "buenos aires.jpg\n",
      "cairo.jpg\n",
      "chennai.jpg\n",
      "chicago.jpg\n",
      "colombo.jpg\n",
      "dallas.jpg\n",
      "delhi.jpg\n",
      "edinbrugh.jpg\n",
      "gainesville.jpg\n",
      "houston.jpg\n",
      "hyderabad.jpg\n",
      "istanbul.jpg\n",
      "ithaca.jpg\n",
      "jacksonville.jpg\n",
      "karachi.jpg\n",
      "kiev.jpg\n",
      "london.jpg\n",
      "los angeles.jpg\n",
      "madrid.jpg\n",
      "manchester.jpg\n",
      "miami.jpg\n",
      "new york.jpg\n",
      "oakland.jpg\n",
      "pune.jpg\n",
      "rochester.jpg\n",
      "san diego.jpg\n",
      "san jose.jpg\n",
      "sao paulo.jpg\n",
      "seattle.jpg\n",
      "seoul.jpg\n",
      "shanghai.jpg\n",
      "singapore.jpg\n",
      "sunnyvale.jpg\n",
      "sydney.jpg\n",
      "tel aviv.jpg\n",
      "['.DS_Store', 'athens.jpg', 'austin.jpg', 'bangalore.jpg', 'barcelona.jpg', 'beijing.jpg', 'berkeley.jpg', 'bogota.jpg', 'bristol.jpg', 'bucharest.jpg', 'buenos aires.jpg', 'cairo.jpg', 'chennai.jpg', 'chicago.jpg', 'colombo.jpg', 'dallas.jpg', 'delhi.jpg', 'edinbrugh.jpg', 'gainesville.jpg', 'houston.jpg', 'hyderabad.jpg', 'istanbul.jpg', 'ithaca.jpg', 'jacksonville.jpg', 'karachi.jpg', 'kiev.jpg', 'london.jpg', 'los angeles.jpg', 'madrid.jpg', 'manchester.jpg', 'miami.jpg', 'new york.jpg', 'oakland.jpg', 'pune.jpg', 'rochester.jpg', 'san diego.jpg', 'san jose.jpg', 'sao paulo.jpg', 'seattle.jpg', 'seoul.jpg', 'shanghai.jpg', 'singapore.jpg', 'sunnyvale.jpg', 'sydney.jpg', 'tel aviv.jpg']\n"
     ]
    }
   ],
   "source": [
    "import os\n",
    "import glob\n",
    "import re\n",
    "\n",
    "#Define files in program\n",
    "file_list = os.listdir(\"C:\\\\Users\\\\beuxb\\\\Downloads\\\\prank\\\\prank\")\n",
    "\n",
    "#Change directory as required\n",
    "os.chdir(\"C:\\\\Users\\\\beuxb\\\\Downloads\\\\prank\\\\prank\")\n",
    "current_path = os.getcwd()\n",
    "print(current_path)\n",
    "\n",
    "#Create for loop to run through all the files in directory and remove all numbers from file name\n",
    "for file_name in file_list:\n",
    "    os.rename(file_name, file_name.translate(str.maketrans(dict.fromkeys('0123456789'))))\n",
    "    print(file_name)\n",
    "\n",
    "#Change directory back to original path\n",
    "os.chdir(\"C:\\\\Users\\\\beuxb\")\n",
    "\n",
    "#Print out list of renamed files\n",
    "print(file_list)\n",
    "                    "
   ]
  },
  {
   "cell_type": "code",
   "execution_count": null,
   "metadata": {},
   "outputs": [],
   "source": []
  },
  {
   "cell_type": "code",
   "execution_count": null,
   "metadata": {},
   "outputs": [],
   "source": []
  },
  {
   "cell_type": "code",
   "execution_count": null,
   "metadata": {},
   "outputs": [],
   "source": []
  }
 ],
 "metadata": {
  "kernelspec": {
   "display_name": "Python 3",
   "language": "python",
   "name": "python3"
  },
  "language_info": {
   "codemirror_mode": {
    "name": "ipython",
    "version": 3
   },
   "file_extension": ".py",
   "mimetype": "text/x-python",
   "name": "python",
   "nbconvert_exporter": "python",
   "pygments_lexer": "ipython3",
   "version": "3.6.7"
  }
 },
 "nbformat": 4,
 "nbformat_minor": 2
}
