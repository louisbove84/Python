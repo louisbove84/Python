{
 "cells": [
  {
   "cell_type": "code",
   "execution_count": 28,
   "metadata": {},
   "outputs": [
    {
     "name": "stdout",
     "output_type": "stream",
     "text": [
      "C:\\Users\\beuxb\\Downloads\\prank\\prank\n",
      ".DS_Store\n",
      "16los angeles.jpg\n",
      "17cairo.jpg\n",
      "22rochester.jpg\n",
      "25madrid.jpg\n",
      "28houston.jpg\n",
      "29bristol.jpg\n",
      "29buenos aires.jpg\n",
      "2chennai.jpg\n",
      "2hyderabad.jpg\n",
      "35miami.jpg\n",
      "36sydney.jpg\n",
      "37athens.jpg\n",
      "41seoul.jpg\n",
      "45austin.jpg\n",
      "45ithaca.jpg\n",
      "46colombo.jpg\n",
      "47london.jpg\n",
      "47sao paulo.jpg\n",
      "47singapore.jpg\n",
      "48sunnyvale.jpg\n",
      "4istanbul.jpg\n",
      "50san diego.jpg\n",
      "52new york.jpg\n",
      "54dallas.jpg\n",
      "55kiev.jpg\n",
      "5bogota.jpg\n",
      "61edinbrugh.jpg\n",
      "64seattle.jpg\n",
      "66san jose.jpg\n",
      "68pune.jpg\n",
      "69chicago.jpg\n",
      "69shanghai.jpg\n",
      "72bangalore.jpg\n",
      "72bucharest.jpg\n",
      "73delhi.jpg\n",
      "74tel aviv.jpg\n",
      "83gainesville.jpg\n",
      "88jacksonville.jpg\n",
      "89berkeley.jpg\n",
      "90beijing.jpg\n",
      "93manchester.jpg\n",
      "96karachi.jpg\n",
      "97oakland.jpg\n",
      "9barcelona.jpg\n",
      "['.DS_Store', '16los angeles.jpg', '17cairo.jpg', '22rochester.jpg', '25madrid.jpg', '28houston.jpg', '29bristol.jpg', '29buenos aires.jpg', '2chennai.jpg', '2hyderabad.jpg', '35miami.jpg', '36sydney.jpg', '37athens.jpg', '41seoul.jpg', '45austin.jpg', '45ithaca.jpg', '46colombo.jpg', '47london.jpg', '47sao paulo.jpg', '47singapore.jpg', '48sunnyvale.jpg', '4istanbul.jpg', '50san diego.jpg', '52new york.jpg', '54dallas.jpg', '55kiev.jpg', '5bogota.jpg', '61edinbrugh.jpg', '64seattle.jpg', '66san jose.jpg', '68pune.jpg', '69chicago.jpg', '69shanghai.jpg', '72bangalore.jpg', '72bucharest.jpg', '73delhi.jpg', '74tel aviv.jpg', '83gainesville.jpg', '88jacksonville.jpg', '89berkeley.jpg', '90beijing.jpg', '93manchester.jpg', '96karachi.jpg', '97oakland.jpg', '9barcelona.jpg']\n"
     ]
    }
   ],
   "source": [
    "import os\n",
    "import glob\n",
    "import re\n",
    "\n",
    "#Define files in program\n",
    "file_list = os.listdir(\"C:\\\\Users\\\\beuxb\\\\Downloads\\\\prank\\\\prank\")\n",
    "\n",
    "#Change directory as required\n",
    "os.chdir(\"C:\\\\Users\\\\beuxb\\\\Downloads\\\\prank\\\\prank\")\n",
    "current_path = os.getcwd()\n",
    "print(current_path)\n",
    "\n",
    "#Create for loop to run through all the files in directory and remove all numbers from file name\n",
    "for file_name in file_list:\n",
    "    os.rename(file_name, file_name.translate(str.maketrans(dict.fromkeys('0123456789'))))\n",
    "    print(file_name)\n",
    "\n",
    "#Change directory back to original path\n",
    "os.chdir(\"C:\\\\Users\\\\beuxb\")\n",
    "\n",
    "#Print out list of renamed files\n",
    "print(file_list)\n",
    "                    "
   ]
  },
  {
   "cell_type": "code",
   "execution_count": null,
   "metadata": {},
   "outputs": [],
   "source": []
  },
  {
   "cell_type": "code",
   "execution_count": null,
   "metadata": {},
   "outputs": [],
   "source": []
  },
  {
   "cell_type": "code",
   "execution_count": null,
   "metadata": {},
   "outputs": [],
   "source": []
  }
 ],
 "metadata": {
  "kernelspec": {
   "display_name": "Python 3",
   "language": "python",
   "name": "python3"
  },
  "language_info": {
   "codemirror_mode": {
    "name": "ipython",
    "version": 3
   },
   "file_extension": ".py",
   "mimetype": "text/x-python",
   "name": "python",
   "nbconvert_exporter": "python",
   "pygments_lexer": "ipython3",
   "version": "3.6.7"
  }
 },
 "nbformat": 4,
 "nbformat_minor": 2
}
