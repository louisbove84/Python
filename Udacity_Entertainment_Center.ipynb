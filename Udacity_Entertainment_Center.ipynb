{
 "cells": [
  {
   "cell_type": "code",
   "execution_count": 1,
   "metadata": {},
   "outputs": [
    {
     "name": "stdout",
     "output_type": "stream",
     "text": [
      "importing Jupyter notebook from media.ipynb\n",
      "This class provides a means to store movie information\n",
      "The name of the class we are using is Movie\n",
      "The name of the module in which this class was defined is media\n"
     ]
    }
   ],
   "source": [
    "#import Movie_Web_Page\n",
    "import import_ipynb\n",
    "import media\n",
    "\n",
    "avengers = media.Movie(\"Avengers\", \"First Marvel Avengers movie\", \"https://images-na.ssl-images-amazon.com/images/I/719SFBdxRtL._SY679_.jpg\",\n",
    "                      \"https://www.youtube.com/watch?v=eOrNdBpGMv8\")\n",
    "\n",
    "avengers_infinity_wars = media.Movie(\"Avengers: Infinity Wars\", \"Second Marvel Avengers movie\", \"https://m.media-amazon.com/images/M/MV5BMjMxNjY2MDU1OV5BMl5BanBnXkFtZTgwNzY1MTUwNTM@._V1_SY1000_CR0,0,674,1000_AL_.jpg\",\n",
    "                      \"https://www.youtube.com/watch?v=6ZfuNTqbHE8\")\n",
    "\n",
    "avengers_endgame = media.Movie(\"Avenger: Endgame\", \"Third and final Marvel Avengers movie\", \"https://images-na.ssl-images-amazon.com/images/I/71niXI3lxlL._SY606_.jpg\",\n",
    "                      \"https://www.youtube.com/watch?v=TcMBFSGVi1c\")\n",
    "\n",
    "#print(avengers.storyline)\n",
    "#avengers.show_trailer()\n",
    "\n",
    "movies = [avengers, avengers_infinity_wars, avengers_endgame]\n",
    "#Movie_Web_Page.open_movies_page(movies)\n",
    "\n",
    "#print(media.Movie.VALID_RATINGS)\n",
    "\n",
    "print(media.Movie.__doc__)\n",
    "print(\"The name of the class we are using is \" + media.Movie.__name__)\n",
    "print(\"The name of the module in which this class was defined is \" + media.Movie.__module__)"
   ]
  },
  {
   "cell_type": "code",
   "execution_count": null,
   "metadata": {},
   "outputs": [],
   "source": []
  },
  {
   "cell_type": "code",
   "execution_count": null,
   "metadata": {},
   "outputs": [],
   "source": []
  }
 ],
 "metadata": {
  "kernelspec": {
   "display_name": "Python 3",
   "language": "python",
   "name": "python3"
  },
  "language_info": {
   "codemirror_mode": {
    "name": "ipython",
    "version": 3
   },
   "file_extension": ".py",
   "mimetype": "text/x-python",
   "name": "python",
   "nbconvert_exporter": "python",
   "pygments_lexer": "ipython3",
   "version": "3.6.7"
  }
 },
 "nbformat": 4,
 "nbformat_minor": 2
}
