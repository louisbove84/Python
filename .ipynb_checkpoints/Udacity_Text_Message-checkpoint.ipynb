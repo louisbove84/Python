{
 "cells": [
  {
   "cell_type": "code",
   "execution_count": null,
   "metadata": {},
   "outputs": [],
   "source": [
    "import smtplib\n",
    "carriers = {\n",
    "\t'att':    '@mms.att.net',\n",
    "\t'tmobile':' @tmomail.net',\n",
    "\t'verizon':  '@vtext.com',\n",
    "\t'sprint':   '@page.nextel.com'\n",
    "}\n",
    "\n",
    "def send(message):\n",
    "        # Replace the number with your own, or consider using an argument\\dict for multiple people.\n",
    "\tto_number = '619-882-6328{}'.format(carriers['tmobile'])\n",
    "\tauth = ('**email**', '**password**')\n",
    "\n",
    "\t# Establish a secure session with gmail's outgoing SMTP server using your gmail account\n",
    "\tserver = smtplib.SMTP( \"smtp.gmail.com\", 587 )\n",
    "\tserver.starttls()\n",
    "\tserver.login(auth[0], auth[1])\n",
    "\n",
    "\t# Send text message through SMS gateway of destination number\n",
    "\tserver.sendmail( auth[0], to_number, message)\n",
    "    \n",
    "import SMS\n",
    "\n",
    "some_text = 'Blah, blah'\n",
    "\n",
    "SMS.send(some_text)"
   ]
  }
 ],
 "metadata": {
  "kernelspec": {
   "display_name": "Python 3",
   "language": "python",
   "name": "python3"
  },
  "language_info": {
   "codemirror_mode": {
    "name": "ipython",
    "version": 3
   },
   "file_extension": ".py",
   "mimetype": "text/x-python",
   "name": "python",
   "nbconvert_exporter": "python",
   "pygments_lexer": "ipython3",
   "version": "3.6.7"
  }
 },
 "nbformat": 4,
 "nbformat_minor": 2
}
