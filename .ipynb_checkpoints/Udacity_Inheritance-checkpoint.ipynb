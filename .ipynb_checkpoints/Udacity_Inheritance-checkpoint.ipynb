{
 "cells": [
  {
   "cell_type": "code",
   "execution_count": 12,
   "metadata": {},
   "outputs": [
    {
     "name": "stdout",
     "output_type": "stream",
     "text": [
      "Parent Constructor Called\n",
      "Child Constructor Called\n",
      "Parent Constructor Called\n",
      "Cyrus\n",
      "Last Name - Cyrus\n",
      "Eye Color - Blue\n",
      "Number of Toys - 4\n",
      "4\n"
     ]
    }
   ],
   "source": [
    "class Parent():\n",
    "    def __init__(self, last_name, eye_color):\n",
    "        print(\"Parent Constructor Called\")\n",
    "        self.last_name = last_name\n",
    "        self.eye_color = eye_color\n",
    "        \n",
    "    def show_info(self):\n",
    "        print(\"Last Name - \" + self.last_name)\n",
    "        print(\"Eye Color - \" + self.eye_color)\n",
    "        \n",
    "class Child(Parent):\n",
    "    def __init__(self, last_name, eye_color, number_of_toys):\n",
    "        print(\"Child Constructor Called\")\n",
    "        Parent.__init__(self, last_name, eye_color)\n",
    "        self.number_of_toys = number_of_toys\n",
    "        \n",
    "    def show_info(self):\n",
    "        print(\"Last Name - \" + self.last_name)\n",
    "        print(\"Eye Color - \" + self.eye_color)\n",
    "        print(\"Number of Toys - \" + str(self.number_of_toys))\n",
    "        \n",
    "billy_cyrus = Parent(\"Cyrus\", \"blue\")\n",
    "#print(billy_cyrus.last_name)\n",
    "\n",
    "miley_cyrus = Child(\"Cyrus\", \"Blue\", 4)\n",
    "print(miley_cyrus.last_name)\n",
    "miley_cyrus.show_info()\n",
    "#print(miley_cyrus.number_of_toys)"
   ]
  },
  {
   "cell_type": "code",
   "execution_count": null,
   "metadata": {},
   "outputs": [],
   "source": []
  }
 ],
 "metadata": {
  "kernelspec": {
   "display_name": "Python 3",
   "language": "python",
   "name": "python3"
  },
  "language_info": {
   "codemirror_mode": {
    "name": "ipython",
    "version": 3
   },
   "file_extension": ".py",
   "mimetype": "text/x-python",
   "name": "python",
   "nbconvert_exporter": "python",
   "pygments_lexer": "ipython3",
   "version": "3.6.7"
  }
 },
 "nbformat": 4,
 "nbformat_minor": 2
}
