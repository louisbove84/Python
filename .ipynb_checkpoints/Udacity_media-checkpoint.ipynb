{
 "cells": [
  {
   "cell_type": "code",
   "execution_count": 6,
   "metadata": {},
   "outputs": [],
   "source": [
    "import webbrowser\n",
    "\n",
    "class Movie():\n",
    "    \n",
    "    \"\"\"This class provides a means to store movie information\"\"\"\n",
    "    \n",
    "    VALID_RATINGS = [\"G\", \"PG\", \"PG-13\", \"R\"]\n",
    "    \n",
    "    def __init__(self, movie_title, movie_storyline, poster_image, trailer_youtube):\n",
    "        self.title = movie_title\n",
    "        self.storyline = movie_storyline\n",
    "        self.poster_image_url = poster_image\n",
    "        self.trailer_youtube_url = trailer_youtube\n",
    "        \n",
    "    def show_trailer(self):\n",
    "        webbrowser.open(self.trailer_youtube_url)"
   ]
  },
  {
   "cell_type": "code",
   "execution_count": null,
   "metadata": {},
   "outputs": [],
   "source": []
  },
  {
   "cell_type": "code",
   "execution_count": null,
   "metadata": {},
   "outputs": [],
   "source": []
  }
 ],
 "metadata": {
  "kernelspec": {
   "display_name": "Python 3",
   "language": "python",
   "name": "python3"
  },
  "language_info": {
   "codemirror_mode": {
    "name": "ipython",
    "version": 3
   },
   "file_extension": ".py",
   "mimetype": "text/x-python",
   "name": "python",
   "nbconvert_exporter": "python",
   "pygments_lexer": "ipython3",
   "version": "3.6.7"
  }
 },
 "nbformat": 4,
 "nbformat_minor": 2
}
