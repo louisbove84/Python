{
 "cells": [
  {
   "cell_type": "code",
   "execution_count": 1,
   "metadata": {},
   "outputs": [],
   "source": [
    "import turtle\n",
    "\n",
    "def draw_circle():\n",
    "    #Create a window to display circle\n",
    "    window = turtle.Screen()\n",
    "    window.bgcolor(\"orange\")\n",
    "    \n",
    "    #Create a circle using the class Turtle\n",
    "    Mikey = turtle.Turtle()\n",
    "\n",
    "    #Change the appreance of Turtle\n",
    "    Mikey.shape(\"turtle\")\n",
    "    Mikey.color(\"green\")\n",
    "    \n",
    "    #Create iterative value\n",
    "    i = 0\n",
    "\n",
    "    while i < 20:\n",
    "        j = 0\n",
    "        while j < 4:\n",
    "            Mikey.forward(100)\n",
    "            Mikey.rt(90)\n",
    "            j += 1\n",
    "        Mikey.rt(18)\n",
    "        Mikey.forward(10)\n",
    "        i += 1\n",
    "        \n",
    "    #Close window after you click on it\n",
    "    window.exitonclick()\n",
    "        \n",
    "draw_circle()"
   ]
  },
  {
   "cell_type": "code",
   "execution_count": null,
   "metadata": {},
   "outputs": [],
   "source": []
  },
  {
   "cell_type": "code",
   "execution_count": null,
   "metadata": {},
   "outputs": [],
   "source": []
  },
  {
   "cell_type": "code",
   "execution_count": null,
   "metadata": {},
   "outputs": [],
   "source": []
  },
  {
   "cell_type": "code",
   "execution_count": null,
   "metadata": {},
   "outputs": [],
   "source": []
  },
  {
   "cell_type": "code",
   "execution_count": null,
   "metadata": {},
   "outputs": [],
   "source": []
  }
 ],
 "metadata": {
  "kernelspec": {
   "display_name": "Python 3",
   "language": "python",
   "name": "python3"
  },
  "language_info": {
   "codemirror_mode": {
    "name": "ipython",
    "version": 3
   },
   "file_extension": ".py",
   "mimetype": "text/x-python",
   "name": "python",
   "nbconvert_exporter": "python",
   "pygments_lexer": "ipython3",
   "version": "3.6.7"
  }
 },
 "nbformat": 4,
 "nbformat_minor": 2
}
